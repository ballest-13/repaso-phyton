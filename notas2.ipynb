{
 "cells": [
  {
   "cell_type": "code",
   "execution_count": 11,
   "metadata": {},
   "outputs": [
    {
     "name": "stdout",
     "output_type": "stream",
     "text": [
      "La suma de los 2 numeros es: 15\n",
      "La multiplicacion de los 2 numeros es: 50\n"
     ]
    }
   ],
   "source": [
    "#Variables \n",
    "numero1 = 5\n",
    "numero2 = 10\n",
    "suma = numero1 + numero2\n",
    "\n",
    "#casing de int =< str\n",
    "print(\"La suma de los 2 numeros es: \" + str(suma))\n",
    "\n",
    "#print usando una expresion (La expresion se evalua a un valor)\n",
    "print(\"La multiplicacion de los 2 numeros es: \" + str(numero1 * numero2))"
   ]
  },
  {
   "cell_type": "code",
   "execution_count": 10,
   "metadata": {},
   "outputs": [
    {
     "name": "stdout",
     "output_type": "stream",
     "text": [
      "El resultado de la suma es6\n"
     ]
    }
   ],
   "source": [
    "#Entrada de datos\n",
    "a = input(\"Vamos a sumar 2 numeros. Introduce el primer numero\")\n",
    "b = input(\"Vamos a sumar 2 numeros. Introduce el segundo numero\")\n",
    "print(\"El resultado de la suma es: \" + str(int(a) + int(b)))"
   ]
  },
  {
   "cell_type": "code",
   "execution_count": 13,
   "metadata": {},
   "outputs": [
    {
     "name": "stdout",
     "output_type": "stream",
     "text": [
      "El numero2 es menor\n"
     ]
    }
   ],
   "source": [
    "#control de fujo (if)\n",
    "numero1 = 5\n",
    "numero2 = 10\n",
    "if numero1 < numero2:\n",
    "    print(\"El numero1 es menor\")\n",
    "else:\n",
    "    print(\"El numero2 es menor\")"
   ]
  },
  {
   "cell_type": "code",
   "execution_count": 14,
   "metadata": {},
   "outputs": [
    {
     "name": "stdout",
     "output_type": "stream",
     "text": [
      "La lista es: [1, 2, 3, 4, 5]\n",
      "El doble de cada elemnto de la lista es: 2\n",
      "El doble de cada elemnto de la lista es: 4\n",
      "El doble de cada elemnto de la lista es: 6\n",
      "El doble de cada elemnto de la lista es: 8\n",
      "El doble de cada elemnto de la lista es: 10\n"
     ]
    }
   ],
   "source": [
    "#control de flujo (for)\n",
    "mi_lista =[1, 2, 3, 4, 5]\n",
    "print(\"La lista es: \" + str(mi_lista))\n",
    "for elemento in mi_lista:\n",
    "    print(\"El doble de cada elemnto de la lista es: \" + str(elemento*2))"
   ]
  },
  {
   "cell_type": "code",
   "execution_count": 32,
   "metadata": {},
   "outputs": [
    {
     "name": "stdout",
     "output_type": "stream",
     "text": [
      "sum 385\n"
     ]
    }
   ],
   "source": [
    "#Control de flujo (while)\n",
    "i = 1 \n",
    "s = 0\n",
    "while i <= 10:\n",
    "    s = s + i**2\n",
    "    i = i + 1\n",
    "print(\"sum\", s)"
   ]
  },
  {
   "cell_type": "code",
   "execution_count": 35,
   "metadata": {},
   "outputs": [
    {
     "name": "stdout",
     "output_type": "stream",
     "text": [
      "\n",
      "### ACCESO A LOS ELEMENTOS DE LA LISTA \n",
      "Todos los elemtos de la lista (con numeros):\n",
      "[1, 2, 3, 7, 10]\n",
      "\n",
      "Todos los elemtos de la lista (con strings):\n",
      "['audi', 'ford', 'citroen', 'ferrari', 'peugeout']\n",
      "El primer elemento es => audi\n",
      "El ultimo elemento es (indice negativo) => peugeout\n",
      "\n",
      "### ITERAR UNA LISTA ###\n",
      "La longitud de la lista es => 5\n",
      "La marca numero 0 es => audi\n",
      "La marca numero 1 es => ford\n",
      "La marca numero 2 es => citroen\n",
      "La marca numero 3 es => ferrari\n",
      "La marca numero 4 es => peugeout\n",
      "\n",
      "### LISTA CON ELEMENTOS DE DIFERNETES TIPOS ###\n"
     ]
    },
    {
     "ename": "TypeError",
     "evalue": "can only concatenate str (not \"tuple\") to str",
     "output_type": "error",
     "traceback": [
      "\u001b[1;31m---------------------------------------------------------------------------\u001b[0m",
      "\u001b[1;31mTypeError\u001b[0m                                 Traceback (most recent call last)",
      "Cell \u001b[1;32mIn[35], line 23\u001b[0m\n\u001b[0;32m     21\u001b[0m \u001b[38;5;28mprint\u001b[39m(\u001b[38;5;124m\"\u001b[39m\u001b[38;5;130;01m\\n\u001b[39;00m\u001b[38;5;124m### LISTA CON ELEMENTOS DE DIFERNETES TIPOS ###\u001b[39m\u001b[38;5;124m\"\u001b[39m)\n\u001b[0;32m     22\u001b[0m caracteristicas_empleo \u001b[38;5;241m=\u001b[39m (\u001b[38;5;124m\"\u001b[39m\u001b[38;5;124mTelefonica\u001b[39m\u001b[38;5;124m\"\u001b[39m, \u001b[38;5;241m1500\u001b[39m, \u001b[38;5;241m37.5\u001b[39m, \u001b[38;5;28;01mTrue\u001b[39;00m) \u001b[38;5;66;03m#Tipo booleano (True / False)\u001b[39;00m\n\u001b[1;32m---> 23\u001b[0m \u001b[38;5;28mprint\u001b[39m(\u001b[38;5;124;43m\"\u001b[39;49m\u001b[38;5;124;43mValores de la lista con diferentes tipos => \u001b[39;49m\u001b[38;5;124;43m\"\u001b[39;49m\u001b[43m \u001b[49m\u001b[38;5;241;43m+\u001b[39;49m\u001b[43m \u001b[49m\u001b[43mcaracteristicas_empleo\u001b[49m)\n\u001b[0;32m     24\u001b[0m \u001b[38;5;28mprint\u001b[39m(caracteristicas_empleo)\n",
      "\u001b[1;31mTypeError\u001b[0m: can only concatenate str (not \"tuple\") to str"
     ]
    }
   ],
   "source": [
    "### LISTAS ###\n",
    "print(\"\\n### ACCESO A LOS ELEMENTOS DE LA LISTA \")\n",
    "lista1 = [1, 2, 3, 7, 10]\n",
    "print(\"Todos los elemtos de la lista (con numeros):\")\n",
    "print(lista1)\n",
    "\n",
    "print()\n",
    "listas_marcas_coche = [\"audi\" , \"ford\" , \"citroen\" , \"ferrari\" , \"peugeout\"]\n",
    "print(\"Todos los elemtos de la lista (con strings):\")\n",
    "print(listas_marcas_coche)\n",
    "\n",
    "#Accediendo a elementos\n",
    "print(\"El primer elemento es => \" + listas_marcas_coche[0])\n",
    "print(\"El ultimo elemento es (indice negativo) => \" + listas_marcas_coche[-1])\n",
    "\n",
    "print(\"\\n### ITERAR UNA LISTA ###\")\n",
    "print(\"La longitud de la lista es => \" + str(len(listas_marcas_coche)) )    # Esto se puede omitir\n",
    "for indice in range(len(listas_marcas_coche)):  # Para cada elemento que hay en la lista (independientemente del tamaño de la lista)\n",
    "    print(\"La marca numero \" + str(indice) + \" es => \" + listas_marcas_coche[indice])\n",
    "\n",
    "print(\"\\n### LISTA CON ELEMENTOS DE DIFERNETES TIPOS ###\")\n",
    "caracteristicas_empleo = (\"Telefonica\", 1500, 37.5, True) #Tipo booleano (True / False)\n",
    "print(\"Valores de la lista con diferentes tipos => \" + caracteristicas_empleo)\n",
    "print(caracteristicas_empleo)"
   ]
  },
  {
   "cell_type": "code",
   "execution_count": null,
   "metadata": {},
   "outputs": [],
   "source": [
    "### TUPLAS [] ###\n",
    "print "
   ]
  }
 ],
 "metadata": {
  "kernelspec": {
   "display_name": "Python 3",
   "language": "python",
   "name": "python3"
  },
  "language_info": {
   "codemirror_mode": {
    "name": "ipython",
    "version": 3
   },
   "file_extension": ".py",
   "mimetype": "text/x-python",
   "name": "python",
   "nbconvert_exporter": "python",
   "pygments_lexer": "ipython3",
   "version": "3.12.1"
  }
 },
 "nbformat": 4,
 "nbformat_minor": 2
}
